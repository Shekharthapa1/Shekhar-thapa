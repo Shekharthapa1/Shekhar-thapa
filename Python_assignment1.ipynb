{
 "cells": [
  {
   "cell_type": "markdown",
   "id": "e9d5a10d",
   "metadata": {},
   "source": [
    "Python_assignment1"
   ]
  },
  {
   "cell_type": "markdown",
   "id": "cb1c498f",
   "metadata": {},
   "source": [
    "Introduction to Data Science.                                                                                                 \n",
    "\n",
    "Data science is the process of drawing useful insights from raw data using a combination of different components such as domain expertise, knowledge of maths and statistics, programming skills, and machine learning models. The insights are later translated by business users and key decision-makers into tangible business value                                                            Data science has turned out to be one of the most popular tech fields in the 21st century. This is because almost every industry, including healthcare, travel, automobile, defense, and manufacturing, has applications associated with data science. These wide applications and increased demand for maximizing business value have led to the development of various data science tools.                                                                                                                                 Data science is a field that involves using statistical and computational techniques to extract insights and knowledge from data. It encompasses a wide range of tasks, including data cleaning and preparation, data visualization, statistical modeling, machine learning, and more. Data scientists use these techniques to discover patterns and trends in data, make predictions, and support decision-making. They may work with a variety of data types, including structured data (such as numbers and dates in a spreadsheet) and unstructured data (such as text, images, or audio). Data science is used in a wide range of industries, including finance, healthcare, retail, and more."
   ]
  },
  {
   "cell_type": "markdown",
   "id": "a71727bf",
   "metadata": {},
   "source": [
    "List of data science languages.    \n",
    "1. Scala\n",
    "2. C/C++\n",
    "3. JavaScript\n",
    "4. Swift\n",
    "5. Go\n",
    "6. MATLAB\n",
    "7. SAS\n",
    "8. Python\n",
    "9. R\n",
    "10. SQL\n",
    "11. Java\n",
    "12. Julia"
   ]
  },
  {
   "cell_type": "markdown",
   "id": "0f82ff88",
   "metadata": {},
   "source": [
    "Top 20 Python Libraries for Data Science\n",
    "1. TensorFlow\n",
    "2. NumPy\n",
    "3. SciPy \n",
    "4. Pandas\n",
    "5. Matplotlib \n",
    "6. Keras\n",
    "7. SciKit-Learn\n",
    "8. PyTorch\n",
    "9. Scrapy\n",
    "10. BeautifulSoup\n",
    "11. LightGBM\n",
    "12. ELI5\n",
    "13. Theano\n",
    "14. NuPIC\n",
    "15. Ramp\n",
    "16. Pipenv\n",
    "17. Bob\n",
    "18. PyBrain\n",
    "19. Caffe2\n",
    "20. Chainer"
   ]
  },
  {
   "cell_type": "markdown",
   "id": "f9650d80",
   "metadata": {},
   "source": [
    "Top Data Science Tools\n",
    "1. Statistical Analysis System (SAS)\n",
    "2. Apache Hadoop\n",
    "3. Tableau\n",
    "4. TensorFlow\n",
    "5. BigML\n",
    "6. Knime\n",
    "7. RapidMiner\n",
    "8. Excel\n",
    "9. Apache Flink\n",
    "10. PowerBI\n",
    "11. Google Analytics\n",
    "12. Python\n",
    "13. R (RStudio)\n",
    "14. DataRobot\n",
    "15. D3.js\n",
    "16. Microsoft HDInsight\n",
    "17. Jupyter\n",
    "18. Matplotlib\n",
    "19. MATLAB\n",
    "20. QlikView"
   ]
  },
  {
   "cell_type": "markdown",
   "id": "493bfe01",
   "metadata": {},
   "source": [
    "Arithmetic expressions                                                                                                         \n",
    "Arithmetic expressions are extremely important in fundamental computer syntax because they provide numeric values that support code functions. By contrast, other kinds of expressions, such as character expressions or Boolean expressions, contain different kinds of indicators.\n",
    "\n",
    "Character expressions contained text values or individual letters or characters for analysis or display, while Boolean expressions contain one of two Boolean values: true or false.\n",
    "\n",
    "There are two different kinds of arithmetic expressions in computer programming syntax: integers or real numbers, and real or floating point numbers. The latter are used to identify and store complex numbers that may not fit into an integer value.\n",
    "\n",
    "In computer code, operators and functions work on individual expressions or sets of expressions including arithmetic, character and Boolean expressions. These provide the basis for the kinds of data work that go on within a software program."
   ]
  },
  {
   "cell_type": "code",
   "execution_count": 1,
   "id": "dd5312f6",
   "metadata": {},
   "outputs": [
    {
     "data": {
      "text/plain": [
       "30"
      ]
     },
     "execution_count": 1,
     "metadata": {},
     "output_type": "execute_result"
    }
   ],
   "source": [
    "#Example of Arithematic Expression \n",
    "a= 10\n",
    "b=20\n",
    "a+b"
   ]
  },
  {
   "cell_type": "code",
   "execution_count": 3,
   "id": "287efcaf",
   "metadata": {},
   "outputs": [
    {
     "name": "stdout",
     "output_type": "stream",
     "text": [
      "Enter 1st Number: 23\n",
      "Enter 2nd Number: 12\n",
      "Addition of Entered Number is : 35\n",
      "Multiplication of Entered Number is : 276\n"
     ]
    }
   ],
   "source": [
    "#Adding and Multiplying two Numbers\n",
    "a= int(input('Enter 1st Number: '))\n",
    "b= int(input('Enter 2nd Number: '))\n",
    "c=a+b\n",
    "d=a*b\n",
    "print('Addition of Entered Number is :',c)\n",
    "print('Multiplication of Entered Number is :',d)"
   ]
  },
  {
   "cell_type": "code",
   "execution_count": 5,
   "id": "fb0693ea",
   "metadata": {},
   "outputs": [
    {
     "name": "stdout",
     "output_type": "stream",
     "text": [
      "Enter Minutes 120\n",
      "Minutes Converted into hours:  2.0\n"
     ]
    }
   ],
   "source": [
    "#convert minutes to hours.\n",
    "a= int(input('Enter Minutes '))\n",
    "b= a/60\n",
    "print('Minutes Converted into hours: ',b)"
   ]
  },
  {
   "cell_type": "markdown",
   "id": "376d77f9",
   "metadata": {},
   "source": [
    "Below the introduction cell created in Exercise 3, insert a new markdown cell to list the objectives that this notebook covered (i.e. some of the key takeaways from the course). In this new cell start with an introductory line titled: Objectives: in bold font. Then using an unordered list (bullets) indicate 3 to 5 items covered in this notebook, such as List popular languages for Data Science."
   ]
  },
  {
   "cell_type": "markdown",
   "id": "b3d5381b",
   "metadata": {},
   "source": [
    "# Author Name:\n",
    "Shekhar thapa "
   ]
  },
  {
   "cell_type": "code",
   "execution_count": null,
   "id": "9a1d72f3",
   "metadata": {},
   "outputs": [],
   "source": []
  }
 ],
 "metadata": {
  "kernelspec": {
   "display_name": "Python 3 (ipykernel)",
   "language": "python",
   "name": "python3"
  },
  "language_info": {
   "codemirror_mode": {
    "name": "ipython",
    "version": 3
   },
   "file_extension": ".py",
   "mimetype": "text/x-python",
   "name": "python",
   "nbconvert_exporter": "python",
   "pygments_lexer": "ipython3",
   "version": "3.9.12"
  }
 },
 "nbformat": 4,
 "nbformat_minor": 5
}
